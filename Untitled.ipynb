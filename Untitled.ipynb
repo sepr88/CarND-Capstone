{
 "cells": [
  {
   "cell_type": "code",
   "execution_count": 16,
   "metadata": {},
   "outputs": [],
   "source": [
    "import xml.etree.ElementTree as ET\n",
    "import os\n",
    "import glob\n",
    "import numpy as np\n",
    "import matplotlib.pyplot as plt\n",
    "%matplotlib inline"
   ]
  },
  {
   "cell_type": "code",
   "execution_count": 34,
   "metadata": {},
   "outputs": [
    {
     "data": {
      "text/plain": [
       "<BarContainer object of 3 artists>"
      ]
     },
     "execution_count": 34,
     "metadata": {},
     "output_type": "execute_result"
    },
    {
     "data": {
      "image/png": "[encoded data removed]",
      "text/plain": [
       "<Figure size 432x288 with 1 Axes>"
      ]
     },
     "metadata": {
      "needs_background": "light"
     },
     "output_type": "display_data"
    }
   ],
   "source": [
    "annotations = glob.glob('/home/basti/Udacity/CarND-Capstone/sim_datasets/raw/tl-set-1/voc-labels/*.xml')\n",
    "\n",
    "red, yellow, green = 0,0,0\n",
    "\n",
    "for annotation in annotations:\n",
    "    tree = ET.parse(annotation)\n",
    "    root = tree.getroot()\n",
    "    \n",
    "    objects = root.findall('object')\n",
    "    \n",
    "    for object in objects:\n",
    "        label = object.find('name').text\n",
    "        \n",
    "        if label == 'red':\n",
    "            red += 1\n",
    "        if label == 'yellow':\n",
    "            yellow += 1\n",
    "        if label == 'green':\n",
    "            green += 1\n",
    "            \n",
    "\n",
    "height = [red, yellow, green]\n",
    "bars = ('red', 'yellow', 'green')\n",
    "\n",
    "fig, ax = plt.subplots()\n",
    "\n",
    "ax.set_xticklabels(bars)\n",
    "ax.set_xticks(range(len(bars)))\n",
    "\n",
    "y_pos = np.arange(len(bars))\n",
    "plt.bar(y_pos, height, color=(0.2, 0.4, 0.6, 0.6))          \n",
    "    "
   ]
  },
  {
   "cell_type": "code",
   "execution_count": null,
   "metadata": {},
   "outputs": [],
   "source": []
  }
 ],
 "metadata": {
  "kernelspec": {
   "display_name": "Python 3",
   "language": "python",
   "name": "python3"
  },
  "language_info": {
   "codemirror_mode": {
    "name": "ipython",
    "version": 3
   },
   "file_extension": ".py",
   "mimetype": "text/x-python",
   "name": "python",
   "nbconvert_exporter": "python",
   "pygments_lexer": "ipython3",
   "version": "3.6.8"
  }
 },
 "nbformat": 4,
 "nbformat_minor": 2
}
